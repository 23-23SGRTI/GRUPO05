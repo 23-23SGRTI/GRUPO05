{
 "cells": [
  {
   "cell_type": "markdown",
   "id": "c22ad953",
   "metadata": {},
   "source": [
    "# Algoritmo de cifrado por Sustitución (\"Mono Alfabética\")"
   ]
  },
  {
   "cell_type": "markdown",
   "id": "b81f6cb2",
   "metadata": {},
   "source": [
    "En criptografía, el **cifrado** por **sustitución** es un método de cifrado por el que unidades de texto plano son sustituidas con texto cifrado siguiendo un sistema regular; las \"unidades\" pueden ser una sola letra (**Mono Alfabético**), pares de letras, tríos de letras (**Poli Alfabético**)."
   ]
  },
  {
   "attachments": {
    "Cifrado%20Atbash.png": {
     "image/png": "[encoded data removed]"
    }
   },
   "cell_type": "markdown",
   "id": "84d93624",
   "metadata": {},
   "source": [
    "**Cifrado Atbash:** \n",
    "Establece las parejas de sustitución invirtiendo el orden del alfabeto del texto en claro. Por tanto en castellano la A será sustituida por la Z, la B por la Y,... Este tipo de cifrado se dice que es de alfabeto invertido.\n",
    "![Cifrado%20Atbash.png](attachment:Cifrado%20Atbash.png)"
   ]
  },
  {
   "cell_type": "code",
   "execution_count": 1,
   "id": "b5906f2a",
   "metadata": {},
   "outputs": [],
   "source": [
    "import string #librería para manejar caracteres y cadenas\n",
    "import time #librería para manejar tiempo\n",
    "from termcolor import colored #librería para manejar colores\n",
    "\n",
    "\n",
    "# Generar la clave de sustitución inversa\n",
    "def generar_clave():\n",
    "    letras = string.ascii_lowercase #Devuelve una cadena que contiene todas las letras minúsculas del alfabeto inglés\n",
    "    clave = {letras[i]: letras[-(i + 1)]for i in range(len(letras))} #Genera una clave de sustitución utilizando un diccionario\n",
    "    return clave\n",
    "\n",
    "\n",
    "def cifrar_mensaje(mensaje, clave):\n",
    "    mensaje_cifrado = \"\" #Variable para almacenar el mensaje cifrado\n",
    "     # Si la letra es mayúscula, la sustituye por mayúscula de la clave, de lo contrario, utiliza la minúscula\n",
    "    for letra in mensaje:\n",
    "        if letra.lower() in clave: \n",
    "            mensaje_cifrado += clave[letra.lower()].upper() if letra.isupper() else clave[letra]\n",
    "        else:\n",
    "            mensaje_cifrado += letra # Si la letra no está en la clave, la deja sin modificar\n",
    "    return mensaje_cifrado\n",
    "\n",
    "\n",
    "# Llama a la función cifrar_mensaje para descifrar el mensaje\n",
    "def descifrar_mensaje(mensaje_cifrado, clave):\n",
    "    return cifrar_mensaje(mensaje_cifrado, clave)\n",
    "\n",
    "\n",
    "def calcular_tiempo_ejecucion(func):\n",
    "    def wrapper(*args, **kwargs): # Obtiene el tiempo de inicio\n",
    "        start_time = time.time() # medir el tiempo de ejecución de las funciones \n",
    "        resultado = func(*args, **kwargs) # Llama a la función proporcionada\n",
    "        end_time = time.time() # Obtiene el tiempo de finalización\n",
    "        tiempo_total = (end_time - start_time)*100 # Calcula el tiempo total de ejecución\n",
    "        print(colored(f\"Tiempo de ejecución: {tiempo_total} milisegundos\", \"green\"))\n",
    "        return resultado\n",
    "    return wrapper\n",
    "\n",
    "\n",
    "\n",
    "# Decorador para medir el tiempo de ejecución\n",
    "@calcular_tiempo_ejecucion #función que toma otra función \n",
    "def cifrar_archivo(nombre_archivo, muestra=15): \n",
    "    with open(nombre_archivo, \"r\") as archivo: # Abre el archivo en modo lectura\n",
    "        mensaje = archivo.read() # Lee el contenido del archivo\n",
    "\n",
    "    clave = generar_clave() # Genera la clave de sustitución\n",
    "\n",
    "    mensaje_cifrado = cifrar_mensaje(mensaje, clave) # Cifra el mensaje utilizando la clave\n",
    "    \n",
    "    # Guardar el mensaje cifrado en un nuevo archivo\n",
    "    nombre_archivo_cifrado = f\"{nombre_archivo.split('.')[0]}_cifrado.txt\"\n",
    "    with open(nombre_archivo_cifrado, \"w\") as archivo_cifrado:\n",
    "        archivo_cifrado.write(mensaje_cifrado)\n",
    "\n",
    "    print(colored(\"Mensaje cifrado:\", \"red\", attrs=['bold']))\n",
    "    imprimir_muestra(mensaje_cifrado, muestra)\n",
    "    \n",
    "    \n",
    "\n",
    "@calcular_tiempo_ejecucion  \n",
    "def descifrar_archivo(nombre_archivo_cifrado, clave, muestra=15):\n",
    "    with open(nombre_archivo_cifrado, \"r\") as archivo_cifrado:\n",
    "        mensaje_cifrado = archivo_cifrado.read()\n",
    "\n",
    "    mensaje_descifrado = descifrar_mensaje(mensaje_cifrado, clave)\n",
    "    \n",
    "    # Guardar el mensaje descifrado en un nuevo archivo\n",
    "    nombre_archivo_descifrado = f\"{nombre_archivo_cifrado.split('_cifrado')[0]}_descifrado.txt\"\n",
    "    with open(nombre_archivo_descifrado, \"w\") as archivo_descifrado:\n",
    "        archivo_descifrado.write(mensaje_descifrado)\n",
    "\n",
    "    print(colored(\"Mensaje descifrado:\", \"red\", attrs=['bold']))\n",
    "    imprimir_muestra(mensaje_descifrado, muestra)\n",
    "    \n",
    "    \n",
    "\n",
    "def imprimir_muestra(mensaje, muestra):\n",
    "    palabras = mensaje.split()\n",
    "    if len(palabras) <= muestra:\n",
    "        print(mensaje)\n",
    "    else:\n",
    "        muestra_palabras = ' '.join(palabras[:muestra])\n",
    "        print(muestra_palabras + '...')\n",
    "        \n",
    "def imprimir_clave(clave):\n",
    "    letras_originales = \"\"\n",
    "    letras_sustitutas = \"\"\n",
    "    for letra, sustituta in clave.items():\n",
    "        letras_originales += letra + \" \"\n",
    "        letras_sustitutas += sustituta + \" \"\n",
    "    print(colored(\"Clave de sustitución:\", \"red\", attrs=[\"bold\"]))\n",
    "    print(letras_originales)\n",
    "    print(letras_sustitutas)\n"
   ]
  },
  {
   "cell_type": "code",
   "execution_count": 2,
   "id": "386c5a10",
   "metadata": {
    "scrolled": false
   },
   "outputs": [
    {
     "name": "stdout",
     "output_type": "stream",
     "text": [
      "\u001b[1m\u001b[31mClave de sustitución:\u001b[0m\n",
      "a b c d e f g h i j k l m n o p q r s t u v w x y z \n",
      "z y x w v u t s r q p o n m l k j i h g f e d c b a \n",
      "\u001b[34mCifrando el archivo...\u001b[0m\n",
      "\u001b[1m\u001b[31mMensaje cifrado:\u001b[0m\n",
      "Kvil wvyl vckorxzigv xÃ³nl hv szyoz Ã±lÃ±l ZZZ ZZZZ ZZZ\n",
      "\n",
      "\n",
      "\u001b[32mTiempo de ejecución: 0.1001119613647461 milisegundos\u001b[0m\n",
      "\u001b[34m\n",
      "Descifrando el archivo...\u001b[0m\n",
      "\u001b[1m\u001b[31mMensaje descifrado:\u001b[0m\n",
      "Pero debo explicarte cÃ³mo se habla Ã±oÃ±o AAA AAAA AAA\n",
      "\n",
      "\n",
      "\u001b[32mTiempo de ejecución: 0.29976367950439453 milisegundos\u001b[0m\n"
     ]
    }
   ],
   "source": [
    "# Ejemplo de uso\n",
    "# Ruta y nombre del archivo a cifrar/descifrar\n",
    "nombre_archivo = \"C:/Users/luis1/OneDrive/Escritorio/Palabras/10.txt\"\n",
    "\n",
    "# 1. Generar la clave de sustitución\n",
    "clave = generar_clave()\n",
    "\n",
    "# 2. Imprimir la clave de sustitución\n",
    "imprimir_clave(clave)\n",
    "\n",
    "# 3. Cifrar e imprimir el texto cifrado.\n",
    "print(colored(\"Cifrando el archivo...\", \"blue\"))\n",
    "cifrar_archivo(nombre_archivo, muestra=10)\n",
    "\n",
    "nombre_archivo_cifrado = f\"{nombre_archivo.split('.')[0]}_cifrado.txt\"\n",
    "\n",
    "# 4. Descifrar e imprimir el texto claro.\n",
    "print(colored(\"\\nDescifrando el archivo...\", \"blue\"))\n",
    "descifrar_archivo(nombre_archivo_cifrado, clave, muestra=10)"
   ]
  },
  {
   "cell_type": "code",
   "execution_count": null,
   "id": "0ac32de8",
   "metadata": {},
   "outputs": [],
   "source": []
  }
 ],
 "metadata": {
  "kernelspec": {
   "display_name": "Python 3 (ipykernel)",
   "language": "python",
   "name": "python3"
  },
  "language_info": {
   "codemirror_mode": {
    "name": "ipython",
    "version": 3
   },
   "file_extension": ".py",
   "mimetype": "text/x-python",
   "name": "python",
   "nbconvert_exporter": "python",
   "pygments_lexer": "ipython3",
   "version": "3.11.3"
  }
 },
 "nbformat": 4,
 "nbformat_minor": 5
}
