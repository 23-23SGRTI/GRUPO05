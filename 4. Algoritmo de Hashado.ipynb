{
 "cells": [
  {
   "cell_type": "code",
   "execution_count": 2,
   "id": "fdd140d2",
   "metadata": {},
   "outputs": [
    {
     "name": "stdout",
     "output_type": "stream",
     "text": [
      "El mensaje encriptado en hash es: 95c695934e26d74b131a265d368d032565a3a95796ea62dab449c1ef17a9d460\n",
      "T-E1 0.0009984970092773438\n",
      "T-E2 0.0\n",
      "T-E3 0.0\n"
     ]
    }
   ],
   "source": [
    "from time import time #Funcion para medir el tiempo transcurrido\n",
    "import hashlib #Proporciona varias funciones de resumen criptográfico, incluyendo el algoritmo SHA-256\n",
    "\n",
    "def main(): #Funcion principal del programa\n",
    "    InicioE1 = time() #Inicio de la medición del tiempo estimado 1\n",
    "    nombre_archivo = \"C:/Users/luis1/OneDrive/Escritorio/Palabras/10.txt\"\n",
    "    with open(nombre_archivo, \"r\") as f: #Abre el archivo de texto usando with para que se cierre correctamente después de su uso\n",
    "        mensaje = f.read() # Lee todo el contenido del archivo y lo almacena en la variable mensaje.\n",
    "    FinE1= time()-InicioE1 \n",
    "    hashh = hashlib.sha256() #Se crea el objeto de clase hash\n",
    "    InicioE2 = time() #Marca el inicio de la medición del tiempo estimado 2\n",
    "    hashh.update(mensaje.encode('utf-8')) #Utilizamos el método update para generar la cadena SHA-256\n",
    "    FinE2= time()-InicioE2 \n",
    "    InicioE3 = time() #Marca el inicio de la medición del tiempo estimado 3\n",
    "    print(\"El mensaje encriptado en hash es: {}\".format(hashh.hexdigest())) #Imprime el mensaje encriptado en forma en formato hexadecimal utilizando el método hexdigest()\n",
    "    FinE3= time()-InicioE3 \n",
    "    print(\"T-E1\", FinE1)\n",
    "    print(\"T-E2\", FinE2)\n",
    "    print(\"T-E3\", FinE3)\n",
    "\n",
    "\n",
    "\n",
    "if __name__ == '__main__':\n",
    "    main()"
   ]
  },
  {
   "cell_type": "code",
   "execution_count": null,
   "id": "17891fca",
   "metadata": {},
   "outputs": [],
   "source": []
  }
 ],
 "metadata": {
  "kernelspec": {
   "display_name": "Python 3 (ipykernel)",
   "language": "python",
   "name": "python3"
  },
  "language_info": {
   "codemirror_mode": {
    "name": "ipython",
    "version": 3
   },
   "file_extension": ".py",
   "mimetype": "text/x-python",
   "name": "python",
   "nbconvert_exporter": "python",
   "pygments_lexer": "ipython3",
   "version": "3.11.3"
  }
 },
 "nbformat": 4,
 "nbformat_minor": 5
}
